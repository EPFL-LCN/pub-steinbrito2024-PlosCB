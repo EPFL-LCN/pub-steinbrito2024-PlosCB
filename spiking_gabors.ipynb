{
 "cells": [
  {
   "cell_type": "markdown",
   "id": "81776a2e",
   "metadata": {},
   "source": [
    "### Spiking results"
   ]
  },
  {
   "cell_type": "markdown",
   "id": "59f1ce77",
   "metadata": {},
   "source": [
    "Figure 4"
   ]
  },
  {
   "cell_type": "code",
   "execution_count": null,
   "id": "f18f3093-5e18-4c0d-9bcd-aadad60ba46c",
   "metadata": {
    "tags": []
   },
   "outputs": [],
   "source": [
    "import sys\n",
    "import numpy as np\n",
    "import matplotlib.pyplot as plt\n",
    "import torch\n",
    "\n",
    "import pickle\n",
    "import os, sys\n",
    "path = os.getcwd() + '\\\\figures\\\\'\n",
    "\n",
    "from bindsnet.network import network\n",
    "from bindsnet.models import EINetwork"
   ]
  },
  {
   "cell_type": "code",
   "execution_count": null,
   "id": "627b84a3-2f6e-443e-b9a1-4848085bcdd2",
   "metadata": {},
   "outputs": [],
   "source": [
    "x,y = pickle.load(\"./results/spikes.pic\")"
   ]
  },
  {
   "cell_type": "code",
   "execution_count": 58,
   "id": "1fe0be2c-d175-42d8-98a9-4941f8864acc",
   "metadata": {},
   "outputs": [
    {
     "data": {
      "text/plain": [
       "(-0.5, 399.5, 14.5, -0.5)"
      ]
     },
     "execution_count": 58,
     "metadata": {},
     "output_type": "execute_result"
    },
    {
     "data": {
      "image/png": "[encoded data removed]",
      "text/plain": [
       "<Figure size 432x288 with 1 Axes>"
      ]
     },
     "metadata": {
      "needs_background": "light"
     },
     "output_type": "display_data"
    }
   ],
   "source": [
    "fig3,ax = plt.subplots(1,1)\n",
    "plt.gray()\n",
    "ind = 12\n",
    "ax.imshow(~x.cpu()[:,ind].reshape(400,-1).T[::20],aspect=10);\n",
    "ax.axis(\"off\")"
   ]
  },
  {
   "cell_type": "code",
   "execution_count": 59,
   "id": "34bb86ed-4bd9-4af4-8b11-4d95d4dc716c",
   "metadata": {},
   "outputs": [],
   "source": [
    "fig3.savefig(path + 'fig_gabor_spiking_input.pdf', format='pdf',transparent=True,\n",
    "            bbox_inches = 'tight')"
   ]
  },
  {
   "cell_type": "code",
   "execution_count": 60,
   "id": "f05d309e-97e7-423b-ab03-4ad37233473c",
   "metadata": {},
   "outputs": [
    {
     "data": {
      "text/plain": [
       "(-0.5, 399.5, 6.5, -0.5)"
      ]
     },
     "execution_count": 60,
     "metadata": {},
     "output_type": "execute_result"
    },
    {
     "data": {
      "image/png": "[encoded data removed]",
      "text/plain": [
       "<Figure size 432x288 with 1 Axes>"
      ]
     },
     "metadata": {
      "needs_background": "light"
     },
     "output_type": "display_data"
    }
   ],
   "source": [
    "fig2,ax = plt.subplots(1,1)\n",
    "plt.gray()\n",
    "ax.imshow(~y.cpu()[:,ind].reshape(400,-1).T[:7],aspect=10);\n",
    "ax.axis(\"off\")"
   ]
  },
  {
   "cell_type": "code",
   "execution_count": 61,
   "id": "355f538d-0d42-45ff-8301-d5ff74b2a106",
   "metadata": {},
   "outputs": [],
   "source": [
    "fig2.savefig(path + 'fig_gabor_spiking_ouput.pdf', format='pdf',transparent=True,\n",
    "            bbox_inches = 'tight')"
   ]
  },
  {
   "cell_type": "markdown",
   "id": "36e90efa-102c-41e4-90b0-74cf93974d9b",
   "metadata": {},
   "source": [
    "Learned Gabors"
   ]
  },
  {
   "cell_type": "code",
   "execution_count": 2,
   "id": "b9cfbb61-6a08-49f2-b80e-f8e071c4462c",
   "metadata": {},
   "outputs": [],
   "source": [
    "oja1 = './results/spiking_oja1.pt'"
   ]
  },
  {
   "cell_type": "code",
   "execution_count": null,
   "id": "7a31e877-da9b-4d14-a6e7-4bd019dc34b3",
   "metadata": {},
   "outputs": [],
   "source": [
    "ww = network.load(oja1)\n",
    "ww = ww.X_to_Y.w.numpy()\n",
    "ww = ww.T.reshape(-1,2,16,16)\n",
    "wmax = ww.max()\n",
    "wamx = (ww[ind,0]-ww[ind,1]).max()"
   ]
  },
  {
   "cell_type": "code",
   "execution_count": 205,
   "id": "c0a10756-1474-4146-b874-dd70dfee28b5",
   "metadata": {},
   "outputs": [
    {
     "data": {
      "image/png": "[encoded data removed]",
      "text/plain": [
       "<Figure size 144x144 with 16 Axes>"
      ]
     },
     "metadata": {},
     "output_type": "display_data"
    }
   ],
   "source": [
    "nn = 4\n",
    "fig11,ax = plt.subplots(nn,nn,figsize=(2,2))\n",
    "for i in range(nn):\n",
    "    for j in range(nn):\n",
    "        axx = ax[i,j]\n",
    "        ind = j+nn*i\n",
    "        wmax = ww[ind].max()\n",
    "        axx.imshow(ww[ind,0],cmap='seismic',alpha=1.,vmin=-wmax,vmax=wmax);\n",
    "        axx.set_xticks([])\n",
    "        axx.set_yticks([]);"
   ]
  },
  {
   "cell_type": "code",
   "execution_count": 207,
   "id": "1a900694-12af-4be9-b91f-151c7ea14b06",
   "metadata": {},
   "outputs": [],
   "source": [
    "fig11.savefig(path + 'fig_gabor_oja_single.pdf', format='pdf',transparent=True,\n",
    "            bbox_inches = 'tight')"
   ]
  },
  {
   "cell_type": "code",
   "execution_count": 183,
   "id": "b470dd04-ecb6-40f0-b99b-bfc04b0b0f6a",
   "metadata": {},
   "outputs": [],
   "source": [
    "oja2 = './resuts/spiking_oja2.pt'"
   ]
  },
  {
   "cell_type": "code",
   "execution_count": null,
   "id": "f25a18d7-f86b-4c79-b4ad-fdb23246d16a",
   "metadata": {},
   "outputs": [],
   "source": [
    "ww = network.load(oja2)\n",
    "ww = ww.X_to_Y.w.numpy()\n",
    "ww = ww.T.reshape(-1,2,16,16)"
   ]
  },
  {
   "cell_type": "code",
   "execution_count": 191,
   "id": "7ed2efa5-4f21-4f35-bd3f-0e77032bcabc",
   "metadata": {},
   "outputs": [
    {
     "data": {
      "image/png": "[encoded data removed]",
      "text/plain": [
       "<Figure size 144x144 with 16 Axes>"
      ]
     },
     "metadata": {},
     "output_type": "display_data"
    }
   ],
   "source": [
    "nn = 4\n",
    "fig,ax = plt.subplots(nn,nn,figsize=(2,2))\n",
    "for i in range(nn):\n",
    "    for j in range(nn):\n",
    "        axx = ax[i,j]\n",
    "        ind = j+nn*i\n",
    "        wmax = ww[ind].max()\n",
    "        \n",
    "        axx.imshow(ww[ind,0]-ww[ind,1],cmap='seismic',alpha=1.,vmin=-2*wmax,vmax=2*wmax);\n",
    "        \n",
    "        axx.set_xticks([])\n",
    "        axx.set_yticks([]);"
   ]
  },
  {
   "cell_type": "code",
   "execution_count": 192,
   "id": "ad98c118-a3c7-41e0-a19d-6f03f641861a",
   "metadata": {},
   "outputs": [],
   "source": [
    "fig.savefig(path + 'fig_gabor_oja_multi.pdf', format='pdf',transparent=True,\n",
    "            bbox_inches = 'tight')"
   ]
  },
  {
   "cell_type": "code",
   "execution_count": 218,
   "id": "6f4ee251-06de-4ab6-acd6-80a3a2951134",
   "metadata": {},
   "outputs": [],
   "source": [
    "triplet1 = 'spiking_triplet1.pt'"
   ]
  },
  {
   "cell_type": "code",
   "execution_count": null,
   "id": "c199590b-3159-4d24-b180-9b24862a5b2d",
   "metadata": {},
   "outputs": [],
   "source": [
    "ww = network.load(triplet1)\n",
    "ww = ww.X_to_Y.w.numpy()\n",
    "ww = ww.T.reshape(-1,2,16,16)"
   ]
  },
  {
   "cell_type": "code",
   "execution_count": 225,
   "id": "86547aaf-cae2-4cdc-a748-53f57a0321a5",
   "metadata": {},
   "outputs": [
    {
     "data": {
      "image/png": "[encoded data removed]",
      "text/plain": [
       "<Figure size 144x144 with 16 Axes>"
      ]
     },
     "metadata": {},
     "output_type": "display_data"
    }
   ],
   "source": [
    "nn = 4\n",
    "fig,ax = plt.subplots(nn,nn,figsize=(2,2))\n",
    "for i in range(nn):\n",
    "    for j in range(nn):\n",
    "        axx = ax[i,j]\n",
    "        ind = j+nn*i\n",
    "        wmax = ww[ind].max()\n",
    "        \n",
    "        axx.imshow(ww[ind,0]-ww[ind,1],cmap='seismic',alpha=1.,vmin=-2*wmax,vmax=2*wmax);\n",
    "\n",
    "        axx.set_xticks([])\n",
    "        axx.set_yticks([]);"
   ]
  },
  {
   "cell_type": "code",
   "execution_count": 226,
   "id": "128958d5-847c-4000-a792-11cf9c7c2086",
   "metadata": {},
   "outputs": [],
   "source": [
    "fig.savefig(path + 'fig_gabor_triplet_single.pdf', format='pdf',transparent=True,\n",
    "            bbox_inches = 'tight')"
   ]
  },
  {
   "cell_type": "code",
   "execution_count": 231,
   "id": "52a7b834-7490-495d-a9cc-ca2d4fb5a3d4",
   "metadata": {},
   "outputs": [],
   "source": [
    "triplet2 = './results/spiking_triplet2.pt'"
   ]
  },
  {
   "cell_type": "code",
   "execution_count": null,
   "id": "2da5e0f8-711a-49ff-8413-6ce8683a629f",
   "metadata": {},
   "outputs": [],
   "source": [
    "ww = network.load(triplet2)\n",
    "ww = ww.X_to_Y.w.numpy()\n",
    "ww = ww.T.reshape(-1,2,16,16)\n",
    "ww.min(), ww.max()"
   ]
  },
  {
   "cell_type": "code",
   "execution_count": 233,
   "id": "637d3bad-2476-4a74-95ed-d58cfa62b6f5",
   "metadata": {},
   "outputs": [
    {
     "data": {
      "image/png": "[encoded data removed]",
      "text/plain": [
       "<Figure size 144x144 with 16 Axes>"
      ]
     },
     "metadata": {},
     "output_type": "display_data"
    }
   ],
   "source": [
    "nn = 4\n",
    "fig,ax = plt.subplots(nn,nn,figsize=(2,2))\n",
    "for i in range(nn):\n",
    "    for j in range(nn):\n",
    "        axx = ax[i,j]\n",
    "        ind = j+nn*i\n",
    "        wmax = ww[ind].max()\n",
    "\n",
    "        axx.imshow(ww[ind,0]-ww[ind,1],cmap='seismic',alpha=1.,vmin=-2*wmax,vmax=2*wmax);\n",
    "\n",
    "        axx.set_xticks([])\n",
    "        axx.set_yticks([]);"
   ]
  },
  {
   "cell_type": "code",
   "execution_count": 234,
   "id": "95239dc0-52f6-4b59-8675-98a104e90daa",
   "metadata": {},
   "outputs": [],
   "source": [
    "fig.savefig(path + 'fig_gabor_triplet_multi.pdf', format='pdf',transparent=True,\n",
    "            bbox_inches = 'tight')"
   ]
  }
 ],
 "metadata": {
  "kernelspec": {
   "display_name": "Python 3 (ipykernel)",
   "language": "python",
   "name": "python3"
  },
  "language_info": {
   "codemirror_mode": {
    "name": "ipython",
    "version": 3
   },
   "file_extension": ".py",
   "mimetype": "text/x-python",
   "name": "python",
   "nbconvert_exporter": "python",
   "pygments_lexer": "ipython3",
   "version": "3.9.13"
  }
 },
 "nbformat": 4,
 "nbformat_minor": 5
}
